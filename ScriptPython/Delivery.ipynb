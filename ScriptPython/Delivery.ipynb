{
 "cells": [
  {
   "cell_type": "code",
   "execution_count": 1,
   "id": "35cedd31",
   "metadata": {},
   "outputs": [],
   "source": [
    "## Dans ce notebook, nous allons générer les données de la table delivery"
   ]
  },
  {
   "cell_type": "code",
   "execution_count": 2,
   "id": "828cf5fa",
   "metadata": {},
   "outputs": [],
   "source": [
    "# importation des packages\n",
    "import pymongo\n",
    "import pandas as pd\n",
    "import numpy as np\n",
    "from datetime import datetime, timedelta\n",
    "import random\n",
    "import string\n",
    "from unidecode import unidecode\n",
    "import warnings \n",
    "warnings.filterwarnings(\"ignore\")\n",
    "\n",
    "pd.set_option(\"display.max_rows\", None)"
   ]
  },
  {
   "cell_type": "code",
   "execution_count": 3,
   "id": "b607bbbc",
   "metadata": {},
   "outputs": [],
   "source": [
    "# chargement des fichiers pdf dont on a besoin dans des dataframes python\n",
    "df_geo = pd.read_csv(\"dataset/geographies.csv\")\n",
    "df_orders = pd.read_csv(\"dataset/orders.csv\")\n",
    "df_stores = pd.read_csv(\"dataset/stores.csv\")\n",
    "df_stores = df_stores.reset_index(drop=True)\n",
    "df_emp = pd.read_csv(\"dataset/employees.csv\")\n",
    "df_shipping_cost = pd.read_csv(\"dataset/shipping_cost.csv\")"
   ]
  },
  {
   "cell_type": "code",
   "execution_count": 4,
   "id": "9b4081d9",
   "metadata": {},
   "outputs": [],
   "source": [
    "lst_columns = [\"Delivery_ID\", \"Order_ID\", \"Emp_ID\", \"Delivery_date\"] # list colonne de notre dataframe"
   ]
  },
  {
   "cell_type": "code",
   "execution_count": 5,
   "id": "996fc3ab",
   "metadata": {},
   "outputs": [],
   "source": [
    "def search_store( df_geo, delivery_address , df_stores) :\n",
    "    info_geo = df_geo[df_geo[\"District\"] == delivery_address] # l'info dans la table geo\n",
    "    department = info_geo[\"Department\"].iloc[0] # le departement du district\n",
    "    \n",
    "    \n",
    "    stores = df_stores[df_stores[\"Store_department\"] == department] # les magasins avec ce département\n",
    "    if not stores.empty :\n",
    "        store_district = stores[\"Store_district\"].tolist()\n",
    "        if (delivery_address in store_district) :\n",
    "            found_store = df_stores[ df_stores[\"Store_district\"] == delivery_address]\n",
    "            store_id = found_store[\"Store_ID\"].iloc[0]\n",
    "            \n",
    "        else :\n",
    "            \n",
    "            delivery_address = random.choice(store_district)\n",
    "            found_store = df_stores[ df_stores[\"Store_district\"] == delivery_address]\n",
    "            store_id = found_store[\"Store_ID\"].iloc[0]\n",
    "            \n",
    "    else :\n",
    "        number_list = [i for i in range(len(df_stores))]\n",
    "        random_number = random.choice([0,1,2])\n",
    "\n",
    "        found_store = df_stores.iloc[random_number]\n",
    "        store_id = found_store[\"Store_ID\"]\n",
    "    return store_id"
   ]
  },
  {
   "cell_type": "code",
   "execution_count": 6,
   "id": "5c9ecfda",
   "metadata": {},
   "outputs": [],
   "source": [
    "def delivery_man (df_emp, store_id):\n",
    "    employe = df_emp[ (df_emp[\"Store_ID\"] == store_id) & (df_emp[\"Emp_title\"] == \"Delivery Person\")]\n",
    "    number_list = [i for i in range(len(employe))]\n",
    "    indice = random.choice(number_list)\n",
    "    employe = employe.iloc[indice]\n",
    "    employe_id = employe.iloc[0]\n",
    "    return employe_id"
   ]
  },
  {
   "cell_type": "code",
   "execution_count": null,
   "id": "1b8e4e43",
   "metadata": {},
   "outputs": [],
   "source": [
    "# génération de nos données\n",
    "len_df_orders = len(df_orders)\n",
    "lst_delivery = []\n",
    "for i in range(1,len_df_orders+1):\n",
    "    dic_o = {}\n",
    "    dic_o[\"Delivery_ID\"] = f\"L{i:06d}\"\n",
    "    dic_o[\"Order_ID\"] = df_orders[\"Order_ID\"].iloc[i-1]\n",
    "    delivery_address = df_orders[\"delivery_address\"].iloc[i-1]\n",
    "    store_id = search_store( df_geo, delivery_address , df_stores)\n",
    "    dic_o[\"Emp_ID\"] = delivery_man (df_emp, store_id)\n",
    "    dic_o[\"Delivery_date\"] = df_orders[\"Delivery_date\"].iloc[i-1]\n",
    "    lst_delivery.append(dic_o)\n",
    "\n",
    "\n",
    "df_delivery = pd.DataFrame(columns= lst_columns)\n",
    "for d in lst_delivery:\n",
    "    df_delivery = df_delivery.append(d, ignore_index=True)\n",
    "\n",
    "# enregistrement dans un fichier csv\n",
    "df_delivery.to_csv(\"dataset/delivery.csv\",encoding='utf-8-sig', index=False)"
   ]
  },
  {
   "cell_type": "code",
   "execution_count": null,
   "id": "2ca72241",
   "metadata": {},
   "outputs": [],
   "source": [
    "df_delivery.head()"
   ]
  },
  {
   "cell_type": "code",
   "execution_count": null,
   "id": "b25b4124",
   "metadata": {},
   "outputs": [],
   "source": [
    "len(df_delivery)"
   ]
  }
 ],
 "metadata": {
  "kernelspec": {
   "display_name": "Python 3 (ipykernel)",
   "language": "python",
   "name": "python3"
  },
  "language_info": {
   "codemirror_mode": {
    "name": "ipython",
    "version": 3
   },
   "file_extension": ".py",
   "mimetype": "text/x-python",
   "name": "python",
   "nbconvert_exporter": "python",
   "pygments_lexer": "ipython3",
   "version": "3.9.12"
  }
 },
 "nbformat": 4,
 "nbformat_minor": 5
}
