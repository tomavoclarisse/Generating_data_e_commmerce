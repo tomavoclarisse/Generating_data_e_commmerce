{
 "cells": [
  {
   "cell_type": "code",
   "execution_count": 1,
   "id": "a372fc9f",
   "metadata": {},
   "outputs": [],
   "source": [
    "# importation de package necessaire\n",
    "import pandas as pd\n",
    "import numpy as np\n",
    "from datetime import datetime\n",
    "import warnings \n",
    "warnings.filterwarnings(\"ignore\")\n",
    "import pyodbc\n",
    "import csv"
   ]
  },
  {
   "cell_type": "code",
   "execution_count": 2,
   "id": "b913ecf7",
   "metadata": {},
   "outputs": [
    {
     "data": {
      "text/html": [
       "<div>\n",
       "<style scoped>\n",
       "    .dataframe tbody tr th:only-of-type {\n",
       "        vertical-align: middle;\n",
       "    }\n",
       "\n",
       "    .dataframe tbody tr th {\n",
       "        vertical-align: top;\n",
       "    }\n",
       "\n",
       "    .dataframe thead th {\n",
       "        text-align: right;\n",
       "    }\n",
       "</style>\n",
       "<table border=\"1\" class=\"dataframe\">\n",
       "  <thead>\n",
       "    <tr style=\"text-align: right;\">\n",
       "      <th></th>\n",
       "      <th>Geo_Key</th>\n",
       "      <th>Country</th>\n",
       "      <th>Region</th>\n",
       "      <th>Department</th>\n",
       "      <th>District</th>\n",
       "    </tr>\n",
       "  </thead>\n",
       "  <tbody>\n",
       "    <tr>\n",
       "      <th>0</th>\n",
       "      <td>1</td>\n",
       "      <td>Sénégal</td>\n",
       "      <td>Dakar</td>\n",
       "      <td>Dakar</td>\n",
       "      <td>Gueule Tapee Fass Colobane</td>\n",
       "    </tr>\n",
       "    <tr>\n",
       "      <th>1</th>\n",
       "      <td>2</td>\n",
       "      <td>Sénégal</td>\n",
       "      <td>Dakar</td>\n",
       "      <td>Dakar</td>\n",
       "      <td>Fann Point E Amitie</td>\n",
       "    </tr>\n",
       "    <tr>\n",
       "      <th>2</th>\n",
       "      <td>3</td>\n",
       "      <td>Sénégal</td>\n",
       "      <td>Dakar</td>\n",
       "      <td>Dakar</td>\n",
       "      <td>Goree</td>\n",
       "    </tr>\n",
       "    <tr>\n",
       "      <th>3</th>\n",
       "      <td>4</td>\n",
       "      <td>Sénégal</td>\n",
       "      <td>Dakar</td>\n",
       "      <td>Dakar</td>\n",
       "      <td>Medina</td>\n",
       "    </tr>\n",
       "    <tr>\n",
       "      <th>4</th>\n",
       "      <td>5</td>\n",
       "      <td>Sénégal</td>\n",
       "      <td>Dakar</td>\n",
       "      <td>Dakar</td>\n",
       "      <td>Plateau</td>\n",
       "    </tr>\n",
       "  </tbody>\n",
       "</table>\n",
       "</div>"
      ],
      "text/plain": [
       "   Geo_Key  Country Region Department                    District\n",
       "0        1  Sénégal  Dakar      Dakar  Gueule Tapee Fass Colobane\n",
       "1        2  Sénégal  Dakar      Dakar         Fann Point E Amitie\n",
       "2        3  Sénégal  Dakar      Dakar                       Goree\n",
       "3        4  Sénégal  Dakar      Dakar                      Medina\n",
       "4        5  Sénégal  Dakar      Dakar                     Plateau"
      ]
     },
     "execution_count": 2,
     "metadata": {},
     "output_type": "execute_result"
    }
   ],
   "source": [
    "df_geography = pd.read_csv(\"dataset/geography1.csv\")\n",
    "df_geography.head()"
   ]
  },
  {
   "cell_type": "code",
   "execution_count": 3,
   "id": "acd22ef7",
   "metadata": {},
   "outputs": [],
   "source": [
    "# connexion à sql server\n",
    "server = 'DESKTOP-NNQ794M\\SQLM2BI'  # Nom ou adresse IP du serveur SQL Server\n",
    "database = 'Beauty_treasure_DWH'  # Nom de la base de données\n",
    "username = 'clarisse'  # Nom d'utilisateur SQL Server\n",
    "password = 'Clarisse.'  # Mot de passe SQL Server\n",
    "\n",
    "conn_str = f'DRIVER={{SQL Server}};SERVER={server};DATABASE={database};UID={username};PWD={password}'"
   ]
  },
  {
   "cell_type": "code",
   "execution_count": 4,
   "id": "149f3b86",
   "metadata": {},
   "outputs": [],
   "source": [
    "def lst_column(df) :\n",
    "    lst_column = df.columns.tolist()\n",
    "    col = ''\n",
    "    for i in (lst_column):\n",
    "        col = col + i + \",\"\n",
    "    return col[:-1]\n",
    "\n",
    "def interrogation(string):\n",
    "    count = ''\n",
    "    for char in string:\n",
    "        if char == ',':\n",
    "            count += '?,'\n",
    "    return count+'?'"
   ]
  },
  {
   "cell_type": "code",
   "execution_count": 5,
   "id": "cfcad31e",
   "metadata": {},
   "outputs": [],
   "source": [
    "# chargement dans la table store\n",
    "def loading_in_table(df, table_name, file_name):\n",
    "    csv_file_path = \"dataset/\"+file_name + '.csv'\n",
    "    try:\n",
    "        conn = pyodbc.connect(conn_str)\n",
    "        cursor = conn.cursor()\n",
    "\n",
    "        # Ouverture du fichier CSV\n",
    "        with open(csv_file_path, 'r', encoding='utf-8') as csvfile:\n",
    "            csv_reader = csv.reader(csvfile, delimiter=\",\")\n",
    "            next(csv_reader)  # Ignore l'en-tête du fichier CSV\n",
    "#             cursor.execute(f\"DELETE FROM {table_name}\")\n",
    "            # Itération à travers chaque ligne du fichier CSV\n",
    "            lst_col = lst_column(df)\n",
    "            lst_interro = interrogation(lst_col)\n",
    "            for row in csv_reader:\n",
    "#                 print(row)\n",
    "                query = f\"INSERT INTO {table_name}({lst_col}) VALUES ({lst_interro})\"\n",
    "                cursor.execute(query, row)\n",
    "                \n",
    "\n",
    "        # Validation des changements\n",
    "        conn.commit()\n",
    "        print(\"Chargement des données dans la table avec succès.\")\n",
    "\n",
    "        # Fermeture du curseur et de la connexion\n",
    "        cursor.close()\n",
    "        conn.close()\n",
    "\n",
    "    except pyodbc.Error as e:\n",
    "        print(f\"Erreur lors de la connexion à la base de données : {e}\")"
   ]
  },
  {
   "cell_type": "code",
   "execution_count": null,
   "id": "b11e1e8a",
   "metadata": {},
   "outputs": [],
   "source": [
    "df_geography = pd.read_csv(\"dataset/geography1.csv\")\n",
    "loading_in_table(df_geography, \"DWH.Dim_Geographies\", \"geography1\")"
   ]
  }
 ],
 "metadata": {
  "kernelspec": {
   "display_name": "Python 3 (ipykernel)",
   "language": "python",
   "name": "python3"
  },
  "language_info": {
   "codemirror_mode": {
    "name": "ipython",
    "version": 3
   },
   "file_extension": ".py",
   "mimetype": "text/x-python",
   "name": "python",
   "nbconvert_exporter": "python",
   "pygments_lexer": "ipython3",
   "version": "3.9.12"
  }
 },
 "nbformat": 4,
 "nbformat_minor": 5
}
