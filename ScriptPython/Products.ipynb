{
 "cells": [
  {
   "cell_type": "markdown",
   "id": "db171e36",
   "metadata": {},
   "source": [
    "## Création du dataset products"
   ]
  },
  {
   "cell_type": "raw",
   "id": "7e6546bc",
   "metadata": {},
   "source": [
    "Nous chargeons dans un premier temps les données de la table catégories afin de récupérer les category_ID.\n",
    "Nous chargeons ensuite la collection Produit de la base de données mongodb dans un document.\n",
    "Nous parcourons chaque lignes du document pour produire une liste de dictionnaire avaec exactement les attributs de la table Product. Après, nous le chargeons dans la table products. Les contraintes de clé primaire et étrangères sont respectées dans l'art. Nous mettons en annexe le code pour l'obtenir.\n"
   ]
  },
  {
   "cell_type": "code",
   "execution_count": 1,
   "id": "8f2e7cbc",
   "metadata": {},
   "outputs": [],
   "source": [
    "import pymongo\n",
    "import pandas as pd\n",
    "import numpy as np\n",
    "from datetime import datetime, timedelta\n",
    "import random\n",
    "import string\n",
    "from unidecode import unidecode\n",
    "import warnings \n",
    "warnings.filterwarnings(\"ignore\")"
   ]
  },
  {
   "cell_type": "markdown",
   "id": "512ad6cc",
   "metadata": {},
   "source": [
    "## Chargement du dataset categories"
   ]
  },
  {
   "cell_type": "code",
   "execution_count": 2,
   "id": "e5a1a0d4",
   "metadata": {},
   "outputs": [],
   "source": [
    "# chargement du df_categories, nous l'utiliserons pour récupérer cat_id\n",
    "df_cat = pd.read_csv(\"dataset/categories.csv\")\n",
    "\n",
    "# récupération des category_ID où category_parent is not null\n",
    "category_ID_with_parent = df_cat[df_cat['Category_parent'].notnull()]['Category_ID'].tolist()"
   ]
  },
  {
   "cell_type": "markdown",
   "id": "62c0414f",
   "metadata": {},
   "source": [
    "## Définition d'une fonction qui supprimera les enregistrements d'une colonne où la valeur est None"
   ]
  },
  {
   "cell_type": "code",
   "execution_count": 3,
   "id": "c59b5176",
   "metadata": {},
   "outputs": [],
   "source": [
    "def remove_rows_with_none(df, column_name):\n",
    "    return df.dropna(subset=[column_name])"
   ]
  },
  {
   "cell_type": "code",
   "execution_count": 4,
   "id": "48565102",
   "metadata": {},
   "outputs": [],
   "source": [
    "def remove_duplicates_by_column(df, column_name1, column_name2):\n",
    "    return  df.drop_duplicates(subset=[column_name1, column_name2])"
   ]
  },
  {
   "cell_type": "markdown",
   "id": "474e1483",
   "metadata": {},
   "source": [
    "## Connexion à ma base de données mongodb"
   ]
  },
  {
   "cell_type": "code",
   "execution_count": 5,
   "id": "8b9cb90b",
   "metadata": {},
   "outputs": [],
   "source": [
    "# Connexion à MongoDB\n",
    "client = pymongo.MongoClient(\"mongodb://localhost:27017/\") \n",
    "database = client[\"dbProductElunea\"] "
   ]
  },
  {
   "cell_type": "markdown",
   "id": "4ba652f8",
   "metadata": {},
   "source": [
    "## Génération des données de notre dataframe Product"
   ]
  },
  {
   "cell_type": "code",
   "execution_count": 6,
   "id": "a63f5301",
   "metadata": {},
   "outputs": [],
   "source": [
    "# une fonction qui retourne cat_id d'une catégorie qu'elle reçoit en paramètre\n",
    "def search_cat_id(df_cat, cat, owner_cat1) :\n",
    "    cat1= cat\n",
    "    owner_cat = owner_cat1.strip()\n",
    "    \n",
    "    if( cat == \"Parfums Femmes\") :\n",
    "        cat1 = \"PARFUMS FEMME\"\n",
    "    if (cat == \"Coffret parfum\"):\n",
    "        cat1 = \"Coffret Parfum\"\n",
    "    if (cat == \"Types de soin\".title()):\n",
    "        cat1 = \"Type de soin\"\n",
    "    if (cat == \"Masque Visage\"):\n",
    "        cat1 = \"Masque Visage\"\n",
    "    if(cat == \"Soin Corporel\"):\n",
    "        cat1 =\"SOIN DU CORPS\"\n",
    "    if (cat == \"Besoins\" and owner_cat == \"Bain & Douche\"):\n",
    "        cat1 = \"BESOINS\"\n",
    "        owner_cat = \"Corps & Bains\" \n",
    "        cat_u = unidecode(cat)\n",
    "        result = df_cat[(df_cat[\"Category_name\"] == \"Besoins\") & (df_cat[\"Category_parent\"] == \"Corps & Bains\")]\n",
    "        \n",
    "        if result.empty:\n",
    "            # Le DataFrame est vide\n",
    "            return cat\n",
    "        else:\n",
    "            cat_ID = result[\"Category_ID\"].iloc[0]\n",
    "            return cat_ID\n",
    "        \n",
    "    if (cat == \"Solaire\" and owner_cat == \"Corps & Bains\"):\n",
    "        result = df_cat[(df_cat[\"Category_name\"]== \"Solaire\") & (df_cat[\"Category_parent\"] == \"Corps & Bains\")]\n",
    "        \n",
    "        if result.empty:\n",
    "            # Le DataFrame est vide\n",
    "            return cat\n",
    "        else:\n",
    "            cat_ID = result[\"Category_ID\"].iloc[0]\n",
    "            return cat_ID\n",
    "        \n",
    "        \n",
    "    if (cat == \"Routine Capillaire\".title()):\n",
    "        cat1 = \"ROUTINES CAPILLAIRES\"\n",
    "        \n",
    "    if (cat == \"BEURRE & HUILE\".title()):\n",
    "        cat1 = \"BEURRE & HUILES\"\n",
    "        \n",
    "    if (cat == \"BEURRE & HUILES\".title()):\n",
    "        cat = \"ACCESOIRES CAPILLAIRES\"\n",
    "    \n",
    "    if (cat == \"Coiffure\".title()):\n",
    "        cat1 = \"COIFFURES\"\n",
    "        \n",
    "    cat_u = unidecode(cat1).title()\n",
    "    \n",
    "    result = df_cat[df_cat[\"Category_name\"].apply(unidecode) == cat_u]\n",
    "    \n",
    "    if result.empty:\n",
    "        # Le DataFrame est vide\n",
    "        return cat\n",
    "    else:\n",
    "        cat_ID = result[\"Category_ID\"].iloc[0]\n",
    "        return cat_ID"
   ]
  },
  {
   "cell_type": "code",
   "execution_count": 7,
   "id": "1d3efd48",
   "metadata": {},
   "outputs": [],
   "source": [
    "### Accédons à la collection \n",
    "col_products = database[\"cat_with_products\"]\n",
    "\n",
    "# Lecture des données chargées\n",
    "documents = col_products.find()\n",
    "data_products = []\n",
    "for document in documents:\n",
    "    data_products.append(document)\n",
    "    \n",
    "\n",
    "\n",
    "all_products = [] # contiendra tous les produits\n",
    "count = 1\n",
    "for i in range(len(data_products)) : # toute la collection\n",
    "    dic_product = {}\n",
    "    cat_product_current = data_products[i] # un dictionnaire\n",
    "    all_product_current = cat_product_current[\"all_products\"] # une liste\n",
    "    for j in range(len(all_product_current)) :\n",
    "        dic_product = {}\n",
    "        dic_product_current = all_product_current[j] # un dictionnaire\n",
    "        if dic_product_current[\"product_price\"] is not None :\n",
    "            dic_product[\"Product_ID\"] = f\"P{count:06d}\"\n",
    "            dic_product[\"Product\"] = dic_product_current[\"product_id\"]\n",
    "            cat = dic_product_current[\"main_category\"].strip().title()\n",
    "            owner_cat = dic_product_current[\"owner_category\"].strip().title()\n",
    "            dic_product[\"Category_ID\"] = search_cat_id(df_cat, cat, owner_cat) \n",
    "            dic_product[\"Product_name\"] = dic_product_current[\"name_product\"].strip().title()\n",
    "            dic_product[\"Description\"] = cat\n",
    "            dic_product[\"Price\"] = int(dic_product_current[\"product_price\"].replace(\".\", \" \").replace(\" \",\"\"))\n",
    "            dic_product[\"Currency\"] = \"FCFA\"\n",
    "            if (len(dic_product[\"Category_ID\"])>0  and dic_product[\"Category_ID\"] in category_ID_with_parent) :\n",
    "                all_products.append(dic_product)\n",
    "                count = count +1 \n",
    "            \n",
    "\n",
    "# création du dataframe product\n",
    "lst_columns = [\"Product_ID\", \"Product\", \"Category_ID\", \"Product_name\", \"Description\", \"Price\", \"Currency\"]\n",
    "df_products = pd.DataFrame(columns = lst_columns )\n",
    "for p in all_products :\n",
    "    df_products = df_products.append(p, ignore_index=True)\n",
    "    \n",
    "# suppression des lignes où category_ID est None\n",
    "df_products = remove_rows_with_none(df_products, \"Category_ID\")\n",
    "df_products = remove_duplicates_by_column(df_products, \"Product_ID\", \"Category_ID\")\n",
    "\n",
    "# Enregistrement dans un fichier csv\n",
    "df_products.to_csv(\"dataset/products.csv\",encoding='utf-8-sig', index=False)"
   ]
  },
  {
   "cell_type": "code",
   "execution_count": 8,
   "id": "fb296eba",
   "metadata": {},
   "outputs": [
    {
     "data": {
      "text/html": [
       "<div>\n",
       "<style scoped>\n",
       "    .dataframe tbody tr th:only-of-type {\n",
       "        vertical-align: middle;\n",
       "    }\n",
       "\n",
       "    .dataframe tbody tr th {\n",
       "        vertical-align: top;\n",
       "    }\n",
       "\n",
       "    .dataframe thead th {\n",
       "        text-align: right;\n",
       "    }\n",
       "</style>\n",
       "<table border=\"1\" class=\"dataframe\">\n",
       "  <thead>\n",
       "    <tr style=\"text-align: right;\">\n",
       "      <th></th>\n",
       "      <th>Product_ID</th>\n",
       "      <th>Product</th>\n",
       "      <th>Category_ID</th>\n",
       "      <th>Product_name</th>\n",
       "      <th>Description</th>\n",
       "      <th>Price</th>\n",
       "      <th>Currency</th>\n",
       "    </tr>\n",
       "  </thead>\n",
       "  <tbody>\n",
       "    <tr>\n",
       "      <th>0</th>\n",
       "      <td>P000001</td>\n",
       "      <td>9628</td>\n",
       "      <td>Cat_0002</td>\n",
       "      <td>Armani Luminous Silk Fond De Teint Eclat Parfait</td>\n",
       "      <td>Teint</td>\n",
       "      <td>30000</td>\n",
       "      <td>FCFA</td>\n",
       "    </tr>\n",
       "    <tr>\n",
       "      <th>1</th>\n",
       "      <td>P000002</td>\n",
       "      <td>16125</td>\n",
       "      <td>Cat_0002</td>\n",
       "      <td>Armani Luminous Silk Poudre Fusion Eclat</td>\n",
       "      <td>Teint</td>\n",
       "      <td>33000</td>\n",
       "      <td>FCFA</td>\n",
       "    </tr>\n",
       "    <tr>\n",
       "      <th>2</th>\n",
       "      <td>P000003</td>\n",
       "      <td>5043</td>\n",
       "      <td>Cat_0002</td>\n",
       "      <td>Artist By Nocibe Fond De Teint Goutte A Goutte</td>\n",
       "      <td>Teint</td>\n",
       "      <td>12000</td>\n",
       "      <td>FCFA</td>\n",
       "    </tr>\n",
       "    <tr>\n",
       "      <th>3</th>\n",
       "      <td>P000004</td>\n",
       "      <td>10165</td>\n",
       "      <td>Cat_0002</td>\n",
       "      <td>Bareminerals Fond De Teint Liquide Tenue Perfo...</td>\n",
       "      <td>Teint</td>\n",
       "      <td>25000</td>\n",
       "      <td>FCFA</td>\n",
       "    </tr>\n",
       "    <tr>\n",
       "      <th>4</th>\n",
       "      <td>P000005</td>\n",
       "      <td>16583</td>\n",
       "      <td>Cat_0002</td>\n",
       "      <td>Beauty Concepts Xxl Bronzer Illuminant</td>\n",
       "      <td>Teint</td>\n",
       "      <td>10000</td>\n",
       "      <td>FCFA</td>\n",
       "    </tr>\n",
       "  </tbody>\n",
       "</table>\n",
       "</div>"
      ],
      "text/plain": [
       "  Product_ID Product Category_ID  \\\n",
       "0    P000001    9628    Cat_0002   \n",
       "1    P000002   16125    Cat_0002   \n",
       "2    P000003    5043    Cat_0002   \n",
       "3    P000004   10165    Cat_0002   \n",
       "4    P000005   16583    Cat_0002   \n",
       "\n",
       "                                        Product_name Description  Price  \\\n",
       "0   Armani Luminous Silk Fond De Teint Eclat Parfait       Teint  30000   \n",
       "1           Armani Luminous Silk Poudre Fusion Eclat       Teint  33000   \n",
       "2     Artist By Nocibe Fond De Teint Goutte A Goutte       Teint  12000   \n",
       "3  Bareminerals Fond De Teint Liquide Tenue Perfo...       Teint  25000   \n",
       "4             Beauty Concepts Xxl Bronzer Illuminant       Teint  10000   \n",
       "\n",
       "  Currency  \n",
       "0     FCFA  \n",
       "1     FCFA  \n",
       "2     FCFA  \n",
       "3     FCFA  \n",
       "4     FCFA  "
      ]
     },
     "execution_count": 8,
     "metadata": {},
     "output_type": "execute_result"
    }
   ],
   "source": [
    "df_products.head()"
   ]
  },
  {
   "cell_type": "code",
   "execution_count": 9,
   "id": "52c1f9c6",
   "metadata": {},
   "outputs": [
    {
     "data": {
      "text/plain": [
       "1286"
      ]
     },
     "execution_count": 9,
     "metadata": {},
     "output_type": "execute_result"
    }
   ],
   "source": [
    "len(df_products)"
   ]
  },
  {
   "cell_type": "code",
   "execution_count": null,
   "id": "b2e3de44",
   "metadata": {},
   "outputs": [],
   "source": [
    "df_products"
   ]
  }
 ],
 "metadata": {
  "kernelspec": {
   "display_name": "Python 3 (ipykernel)",
   "language": "python",
   "name": "python3"
  },
  "language_info": {
   "codemirror_mode": {
    "name": "ipython",
    "version": 3
   },
   "file_extension": ".py",
   "mimetype": "text/x-python",
   "name": "python",
   "nbconvert_exporter": "python",
   "pygments_lexer": "ipython3",
   "version": "3.9.12"
  }
 },
 "nbformat": 4,
 "nbformat_minor": 5
}
