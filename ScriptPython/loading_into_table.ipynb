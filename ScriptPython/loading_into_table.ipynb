{
 "cells": [
  {
   "cell_type": "code",
   "execution_count": null,
   "id": "2be8b655",
   "metadata": {},
   "outputs": [],
   "source": [
    "# Chargement des données dans les différentes tables de"
   ]
  },
  {
   "cell_type": "code",
   "execution_count": 1,
   "id": "3dd52c3c",
   "metadata": {},
   "outputs": [],
   "source": [
    "import pyodbc\n",
    "import pandas as pd\n",
    "import csv\n",
    "import numpy as np"
   ]
  },
  {
   "cell_type": "code",
   "execution_count": 2,
   "id": "b177dc1d",
   "metadata": {},
   "outputs": [],
   "source": [
    "# connexion à sql server\n",
    "server = 'DESKTOP-NNQ794M\\SQLM2BI'  # Nom ou adresse IP du serveur SQL Server\n",
    "database = 'Beauty_treasure_DWH'  # Nom de la base de données\n",
    "username = 'clarisse'  # Nom d'utilisateur SQL Server\n",
    "password = 'Clarisse.'  # Mot de passe SQL Server\n",
    "\n",
    "conn_str = f'DRIVER={{SQL Server}};SERVER={server};DATABASE={database};UID={username};PWD={password}'"
   ]
  },
  {
   "cell_type": "code",
   "execution_count": 4,
   "id": "bd2d1b0d",
   "metadata": {},
   "outputs": [],
   "source": [
    "import pyodbc\n",
    "import csv\n",
    "\n",
    "# Connexion à la base de données\n",
    "conn = pyodbc.connect(conn_str)\n",
    "\n",
    "# Exécution de la requête\n",
    "cursor = conn.cursor()\n",
    "cursor.execute(\"SELECT * FROM [DWH].[Dim_Categories]\")\n",
    "\n",
    "# Enregistrement des résultats dans un fichier CSV\n",
    "with open('dim_categories.csv', 'w', newline='') as csvfile:\n",
    "    csvwriter = csv.writer(csvfile)\n",
    "    csvwriter.writerow([i[0] for i in cursor.description])  # Écriture des noms de colonnes\n",
    "    csvwriter.writerows(cursor.fetchall())  # Écriture des données\n",
    "\n",
    "# Fermeture de la connexion\n",
    "conn.close()\n"
   ]
  },
  {
   "cell_type": "code",
   "execution_count": 3,
   "id": "fe11f771",
   "metadata": {},
   "outputs": [],
   "source": [
    "df_stores = pd.read_csv(\"dataset/stores.csv\")\n",
    "df_employees = pd.read_csv(\"dataset/employees.csv\")\n",
    "df_shipping_cost = pd.read_csv(\"dataset/shipping_cost.csv\")\n",
    "df_customers = pd.read_csv(\"dataset/customers.csv\")\n",
    "# df_customers.rename(columns={'Cust_sexe': 'Cust_sex'}, inplace=True)\n",
    "# df_customers.to_csv(\"dataset/customers.csv\",encoding='utf-8-sig', index=False)\n",
    "\n",
    "df_orders = pd.read_csv(\"dataset/orders.csv\")\n",
    "# df_orders = df_orders[['Order_ID', 'Cust_ID','Shipping_cost_ID','Number_items','delivery_address','Order_date','Shipped_date','Delivery_date','Delivery_formula','Payment_channel','Total_amount','Total_amount_invoiced']]\n",
    "# df_orders.to_csv(\"dataset/orders.csv\",encoding='utf-8-sig', index=False)\n",
    "\n",
    "df_delivery = pd.read_csv(\"dataset/delivery.csv\")\n",
    "df_category = pd.read_csv(\"dataset/categories.csv\")\n",
    "\n",
    "df_products = pd.read_csv(\"dataset/products.csv\")\n",
    "\n",
    "# df_carts = pd.read_csv(\"dataset/carts.csv\")\n",
    "df_promotions = pd.read_csv(\"dataset/promotions.csv\")\n",
    "df_order_details = pd.read_csv(\"dataset/order_details.csv\")\n"
   ]
  },
  {
   "cell_type": "code",
   "execution_count": null,
   "id": "08eb8415",
   "metadata": {},
   "outputs": [],
   "source": [
    "df_order_details = pd.read_csv(\"dataset/order_details.csv\")"
   ]
  },
  {
   "cell_type": "code",
   "execution_count": null,
   "id": "7c7b0fd5",
   "metadata": {},
   "outputs": [],
   "source": [
    "df_order_details"
   ]
  },
  {
   "cell_type": "markdown",
   "id": "f4576759",
   "metadata": {},
   "source": [
    "## definition de quelques fonctions"
   ]
  },
  {
   "cell_type": "code",
   "execution_count": 4,
   "id": "f69b524c",
   "metadata": {
    "scrolled": true
   },
   "outputs": [],
   "source": [
    "def lst_column(df) :\n",
    "    lst_column = df.columns.tolist()\n",
    "    col = ''\n",
    "    for i in (lst_column):\n",
    "        col = col + i + \",\"\n",
    "    return col[:-1]\n",
    "\n",
    "def interrogation(string):\n",
    "    count = ''\n",
    "    for char in string:\n",
    "        if char == ',':\n",
    "            count += '?,'\n",
    "    return count+'?'"
   ]
  },
  {
   "cell_type": "code",
   "execution_count": 5,
   "id": "df4c6547",
   "metadata": {},
   "outputs": [],
   "source": [
    "# chargement dans la table store\n",
    "def loading_in_table(df, table_name, file_name):\n",
    "    csv_file_path = \"dataset/\"+file_name + '.csv'\n",
    "    try:\n",
    "        conn = pyodbc.connect(conn_str)\n",
    "        cursor = conn.cursor()\n",
    "\n",
    "        # Ouverture du fichier CSV\n",
    "        with open(csv_file_path, 'r', encoding='utf-8') as csvfile:\n",
    "            csv_reader = csv.reader(csvfile, delimiter=\",\")\n",
    "            next(csv_reader)  # Ignore l'en-tête du fichier CSV\n",
    "#             cursor.execute(f\"DELETE FROM {table_name}\")\n",
    "            # Itération à travers chaque ligne du fichier CSV\n",
    "            lst_col = lst_column(df)\n",
    "            lst_interro = interrogation(lst_col)\n",
    "            for row in csv_reader:\n",
    "#                 print(row)\n",
    "                query = f\"INSERT INTO {table_name}({lst_col}) VALUES ({lst_interro})\"\n",
    "                cursor.execute(query, row)\n",
    "                \n",
    "\n",
    "        # Validation des changements\n",
    "        conn.commit()\n",
    "        print(\"Chargement des données dans la table avec succès.\")\n",
    "\n",
    "        # Fermeture du curseur et de la connexion\n",
    "        cursor.close()\n",
    "        conn.close()\n",
    "\n",
    "    except pyodbc.Error as e:\n",
    "        print(f\"Erreur lors de la connexion à la base de données : {e}\")"
   ]
  },
  {
   "cell_type": "code",
   "execution_count": 6,
   "id": "3007f579",
   "metadata": {},
   "outputs": [
    {
     "name": "stdout",
     "output_type": "stream",
     "text": [
      "Chargement des données dans la table avec succès.\n"
     ]
    }
   ],
   "source": [
    "# stores\n",
    "loading_in_table(df_stores, \"Stores\", \"stores\")"
   ]
  },
  {
   "cell_type": "code",
   "execution_count": 7,
   "id": "403ab00d",
   "metadata": {},
   "outputs": [
    {
     "name": "stdout",
     "output_type": "stream",
     "text": [
      "Chargement des données dans la table avec succès.\n"
     ]
    }
   ],
   "source": [
    "# Employees\n",
    "loading_in_table(df_employees, \"Employees\", \"employees\")"
   ]
  },
  {
   "cell_type": "code",
   "execution_count": 8,
   "id": "64087f61",
   "metadata": {},
   "outputs": [
    {
     "name": "stdout",
     "output_type": "stream",
     "text": [
      "Chargement des données dans la table avec succès.\n"
     ]
    }
   ],
   "source": [
    "# Shipping_cost\n",
    "loading_in_table(df_shipping_cost, \"Shipping_cost\", \"shipping_cost\")"
   ]
  },
  {
   "cell_type": "code",
   "execution_count": 9,
   "id": "263443fb",
   "metadata": {},
   "outputs": [
    {
     "name": "stdout",
     "output_type": "stream",
     "text": [
      "Chargement des données dans la table avec succès.\n"
     ]
    }
   ],
   "source": [
    "# Customers\n",
    "loading_in_table(df_customers, \"Customers\", \"customers\")"
   ]
  },
  {
   "cell_type": "code",
   "execution_count": 10,
   "id": "921f85f0",
   "metadata": {},
   "outputs": [
    {
     "name": "stdout",
     "output_type": "stream",
     "text": [
      "Chargement des données dans la table avec succès.\n"
     ]
    }
   ],
   "source": [
    "# Orders\n",
    "loading_in_table(df_orders, \"Orders\", \"orders\")"
   ]
  },
  {
   "cell_type": "code",
   "execution_count": 11,
   "id": "379532ef",
   "metadata": {},
   "outputs": [
    {
     "name": "stdout",
     "output_type": "stream",
     "text": [
      "Chargement des données dans la table avec succès.\n"
     ]
    }
   ],
   "source": [
    "# Delivery\n",
    "loading_in_table(df_delivery, \"Delivery\", \"delivery\")"
   ]
  },
  {
   "cell_type": "code",
   "execution_count": 13,
   "id": "83edde2a",
   "metadata": {},
   "outputs": [
    {
     "name": "stdout",
     "output_type": "stream",
     "text": [
      "Erreur lors de la connexion à la base de données : ('23000', \"[23000] [Microsoft][ODBC SQL Server Driver][SQL Server]Violation de la contrainte PRIMARY KEY «\\xa0PK__Category__6DB38D4EC7AE0948\\xa0». Impossible d'insérer une clé en double dans l'objet «\\xa0dbo.Category\\xa0». Valeur de clé dupliquée\\xa0: (Cat_0001). (2627) (SQLExecDirectW); [23000] [Microsoft][ODBC SQL Server Driver][SQL Server]L'instruction a été arrêtée. (3621)\")\n"
     ]
    }
   ],
   "source": [
    "# Category\n",
    "loading_in_table(df_category, \"Category\", \"categories\")"
   ]
  },
  {
   "cell_type": "code",
   "execution_count": 14,
   "id": "9215e114",
   "metadata": {},
   "outputs": [
    {
     "name": "stdout",
     "output_type": "stream",
     "text": [
      "Chargement des données dans la table avec succès.\n"
     ]
    }
   ],
   "source": [
    "# Products\n",
    "loading_in_table(df_products, \"Products\", \"products\")"
   ]
  },
  {
   "cell_type": "raw",
   "id": "59dce6ff",
   "metadata": {},
   "source": [
    "# Carts\n",
    "#loading_in_table(df_carts, \"Carts\", \"carts\")"
   ]
  },
  {
   "cell_type": "code",
   "execution_count": 15,
   "id": "8d1d6e50",
   "metadata": {},
   "outputs": [
    {
     "name": "stdout",
     "output_type": "stream",
     "text": [
      "Chargement des données dans la table avec succès.\n"
     ]
    }
   ],
   "source": [
    "# Promotions\n",
    "loading_in_table(df_promotions, \"Promotions\", \"promotions\")"
   ]
  },
  {
   "cell_type": "code",
   "execution_count": 16,
   "id": "a1d8f45c",
   "metadata": {},
   "outputs": [
    {
     "name": "stdout",
     "output_type": "stream",
     "text": [
      "Chargement des données dans la table avec succès.\n"
     ]
    }
   ],
   "source": [
    "# Order_details\n",
    "loading_in_table(df_order_details, \"Order_details\", \"order_details\")"
   ]
  }
 ],
 "metadata": {
  "kernelspec": {
   "display_name": "Python 3 (ipykernel)",
   "language": "python",
   "name": "python3"
  },
  "language_info": {
   "codemirror_mode": {
    "name": "ipython",
    "version": 3
   },
   "file_extension": ".py",
   "mimetype": "text/x-python",
   "name": "python",
   "nbconvert_exporter": "python",
   "pygments_lexer": "ipython3",
   "version": "3.9.12"
  }
 },
 "nbformat": 4,
 "nbformat_minor": 5
}
